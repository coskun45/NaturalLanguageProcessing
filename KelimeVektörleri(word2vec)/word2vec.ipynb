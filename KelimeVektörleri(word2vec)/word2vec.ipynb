{
 "cells": [
  {
   "cell_type": "code",
   "execution_count": 2,
   "id": "7f1b5e20",
   "metadata": {},
   "outputs": [],
   "source": [
    "import numpy as np\n",
    "from gensim.models import Word2Vec\n",
    "from sklearn.manifold import TSNE\n",
    "import matplotlib.pyplot as plt"
   ]
  },
  {
   "cell_type": "code",
   "execution_count": 4,
   "id": "0b1a8874",
   "metadata": {},
   "outputs": [],
   "source": [
    "f=open('hurriyet.txt','r',encoding='utf8')# okumak icin\n",
    "text=f.read()\n",
    "t_list=text.split('\\n')# cümleler birbirinden yeni satir ile ayrildigi icin \\n\n",
    "\n",
    "corpus=[]\n",
    "\n",
    "for cumle in t_list:\n",
    "    corpus.append(cumle.split())# cümle tokenlestiriliyor ve corpus a ekleniyor"
   ]
  },
  {
   "cell_type": "code",
   "execution_count": 5,
   "id": "e055db93",
   "metadata": {},
   "outputs": [
    {
     "name": "stdout",
     "output_type": "stream",
     "text": [
      "[['iran', 'devlet', 'televizyonu', 'ülkedeki', 'eyaletin', 'sinde', 'yapılan', 'reformcuları', 'protesto', 'amaçlı', 'yürüyüşlere', 'milyonlarca', 'kişinin', 'katıldığını', 'bildirdi'], ['gösterilerde', 'fitnecilere', 'ölüm', 'münafıklara', 'ölüm', 'abd', 'ye', 'ölüm', 'ingiltere', 'ye', 'ölüm', 'sloganları', 'atıldı'], ['dini', 'lider', 'ali', 'hamaney', 've', 'cumhurbaşkanı', 'mahmud', 'ahmedinejad', 'ı', 'destekleyen', 'iranlılar', 'son', 'olaylarda', 'yeğeni', 'öldürülen', 'mir', 'hüseyin', 'musevi', 'başta', 'olmak', 'üzere', 'muhalefet', 'liderlerini', 'kınadılar'], ['musevi', 'ye', 'ölüm', 've', 'idam', 'idam', 'sloganları', 'duyuldu'], ['muhalefet', 'liderleri', 'kaçtı', 'mı', 'aşure', 'günü', 'yaşanan', 'çatışmalarda', 'devlet', 'kaynaklarına', 'göre', 'u', 'terörist', 'olmak', 'üzere', 'kişi', 'ölmüştü'], ['den', 'fazla', 'kişinin', 'yaralandığı', 'olaylar', 'sırasında', 'en', 'az', 'kişi', 'tutuklanmıştı'], ['öte', 'yandan', 'iran', 'haber', 'ajansı', 'irna', 'muhalif', 'liderler', 'mir', 'hüseyin', 'musevi', 've', 'mehdi', 'kerrubi', 'nin', 'başkentten', 'kaçarak', 'ülkenin', 'kuzeyine', 'geçtiğini', 'ileri', 'sürdü', 'ancak', 'muhalefet', 'iddiayı', 'yalanladı'], ['hamaney', 'in', 'bir', 'dönem', 'korumalığını', 'yapan', 've', 'şu', 'anda', 'fransa', 'da', 'saklandığı', 'söylenen', 'bir', 'kişinin', 'muhalefete', 'verdiği', 'bilgilere', 'göre', 'münzevi', 'yaşamı', 'na', 'rağmen', 'dini', 'liderin', 'havyara', 'karşı', 'korkunç', 'bir', 'iştahı', 'var'], ['baston', 've', 'at', 'meraklısı', 'hamaney', 'aynı', 'zamanda', 'değerli', 'mücevherlerle', 'bezenmiş', 'bastonların', 've', 'cins', 'atların', 'koleksiyonunu', 'yapıyor'], ['hamaney', 'in', 'antika', 'bastonlarının', 'sayısı']]\n"
     ]
    }
   ],
   "source": [
    "print(corpus[:10])# ilk 10 cümleyi yazdiriyor. her cümlede farkli kelimelerden olusuyor"
   ]
  },
  {
   "cell_type": "code",
   "execution_count": 7,
   "id": "a0db0e25",
   "metadata": {},
   "outputs": [],
   "source": [
    "model=Word2Vec(corpus,vector_size=100,window=5,min_count=5, sg=1)# size:vektör uzunlugu, window:kac tane kelimeye bakacagi,\n",
    "#min_count:enaz 5 tane gecen kelimeleri aliyor, sg=1:skip gram algoritmasini kullan"
   ]
  },
  {
   "cell_type": "code",
   "execution_count": 8,
   "id": "38e3c4bb",
   "metadata": {},
   "outputs": [
    {
     "data": {
      "text/plain": [
       "array([-1.7296359e-01, -5.2737299e-02,  1.1141068e-01, -2.9287074e-02,\n",
       "        3.8125199e-01, -1.4710230e-01, -2.8056753e-01,  5.8144587e-01,\n",
       "       -6.0931665e-01, -2.5023101e-04,  3.3016723e-02, -4.1472638e-01,\n",
       "       -2.4099724e-01,  4.3575618e-01, -3.6334625e-01,  4.5483962e-01,\n",
       "        7.8731102e-01,  4.9873758e-02,  2.3608969e-01, -4.1819867e-01,\n",
       "       -3.0047596e-01,  5.9514862e-01,  5.1372021e-01, -5.3395426e-01,\n",
       "       -4.9672261e-02, -3.9611161e-02, -4.4162038e-01, -4.2385107e-01,\n",
       "       -6.4931673e-01,  4.5960835e-01,  3.5608307e-01,  2.8862485e-01,\n",
       "       -2.3002712e-01, -2.2145206e-02, -9.7894512e-02, -2.0293814e-01,\n",
       "       -5.9423363e-01, -2.3454931e-01,  2.6178455e-02, -4.2863327e-01,\n",
       "        5.3472543e-01,  3.4226608e-01,  4.6600345e-01,  2.8627923e-01,\n",
       "        4.3754390e-01,  4.3548316e-01, -2.6438752e-01,  8.7996840e-02,\n",
       "        1.7638935e-01, -2.4644966e-01,  2.0187040e-01,  4.0388447e-03,\n",
       "       -3.2785468e-02,  5.7091504e-02, -1.4388953e-01,  1.5370843e-01,\n",
       "       -6.1742168e-02, -1.7050060e-02,  4.5481246e-02, -5.4174191e-01,\n",
       "        1.5223587e-01, -6.8328179e-02,  6.3474402e-02,  1.4797483e-01,\n",
       "       -4.2948934e-01,  2.6594397e-01,  9.3565090e-03,  4.1461664e-01,\n",
       "       -2.9130951e-01, -1.9741781e-01, -4.3486589e-01,  2.4447551e-01,\n",
       "        4.9945441e-01, -3.6304647e-01,  3.3723316e-01, -1.6384849e-01,\n",
       "       -2.0864647e-02, -2.3378584e-01,  3.9238952e-02, -2.1312077e-01,\n",
       "        3.1035286e-01, -5.0523925e-01, -3.5007104e-01,  8.1324142e-01,\n",
       "        3.2139626e-01, -2.1482575e-01,  3.3857486e-01,  1.5393887e-01,\n",
       "        2.6621675e-01,  6.5682656e-01,  9.6650177e-01, -5.7649445e-02,\n",
       "        1.0447614e-01,  8.6382031e-02,  1.5191117e-01,  1.3943152e-01,\n",
       "        8.6045833e-03, -2.3870005e-01,  1.3593626e-01,  3.0857686e-02],\n",
       "      dtype=float32)"
      ]
     },
     "execution_count": 8,
     "metadata": {},
     "output_type": "execute_result"
    }
   ],
   "source": [
    "model.wv['ankara']# vektör uzunlugu 100"
   ]
  },
  {
   "cell_type": "code",
   "execution_count": 10,
   "id": "c4d0f9f1",
   "metadata": {},
   "outputs": [
    {
     "data": {
      "text/plain": [
       "[('danimarka', 0.8270155787467957),\n",
       " ('avusturya', 0.8043339252471924),\n",
       " ('belçika', 0.7840869426727295),\n",
       " ('almanya', 0.7656735777854919),\n",
       " ('ispanya', 0.7609575390815735),\n",
       " ('letonya', 0.7463870048522949),\n",
       " ('fransa', 0.7406113147735596),\n",
       " ('kanada', 0.7391726970672607),\n",
       " ('avustralya', 0.7203019261360168),\n",
       " ('finlandiya', 0.7186217308044434)]"
      ]
     },
     "execution_count": 10,
     "metadata": {},
     "output_type": "execute_result"
    }
   ],
   "source": [
    "model.wv.most_similar('hollanda')# corpus da hollanda ya yakin olan 10 kelime yi getirir"
   ]
  },
  {
   "cell_type": "code",
   "execution_count": 11,
   "id": "4f19f69f",
   "metadata": {},
   "outputs": [
    {
     "data": {
      "text/plain": [
       "[('perşembe', 0.927455723285675),\n",
       " ('cumartesi', 0.9195760488510132),\n",
       " ('salı', 0.8995999693870544),\n",
       " ('günü', 0.8931978940963745),\n",
       " ('çarşamba', 0.8860653042793274),\n",
       " ('cuma', 0.8762162327766418),\n",
       " ('akşamı', 0.8698455095291138),\n",
       " ('pazar', 0.8366338014602661),\n",
       " ('sabahı', 0.8250896334648132),\n",
       " ('gününden', 0.7610134482383728)]"
      ]
     },
     "execution_count": 11,
     "metadata": {},
     "output_type": "execute_result"
    }
   ],
   "source": [
    "model.wv.most_similar('pazartesi')"
   ]
  },
  {
   "cell_type": "code",
   "execution_count": 15,
   "id": "bfb300f7",
   "metadata": {},
   "outputs": [],
   "source": [
    "model.save('word2vec.model')"
   ]
  },
  {
   "cell_type": "code",
   "execution_count": 16,
   "id": "2b2010f5",
   "metadata": {},
   "outputs": [],
   "source": [
    "model=Word2Vec.load('word2vec.model')"
   ]
  },
  {
   "cell_type": "markdown",
   "id": "7f6d418f",
   "metadata": {},
   "source": [
    "<center> Görsellestirme</center>"
   ]
  },
  {
   "cell_type": "code",
   "execution_count": 26,
   "id": "5d3bff22",
   "metadata": {},
   "outputs": [],
   "source": [
    "def closestwords_tsneplot(model, word):\n",
    "    word_vectors=np.empty((0,100))\n",
    "    word_labels=[word]\n",
    "    \n",
    "    close_words=model.wv.most_similar(word)\n",
    "    \n",
    "    word_vectors=np.append(word_vectors, np.array([model.wv[word]]), axis=0)# axis olmazsa düzlestirilir\n",
    "    \n",
    "    for w, _ in close_words:\n",
    "        word_labels.append(w)\n",
    "        word_vectors= np.append(word_vectors,np.array([model.wv[w]]),axis=0)\n",
    "        \n",
    "    tsne=TSNE(random_state=0, perplexity=10)# görsellestirmek icin\n",
    "    Y=tsne.fit_transform(word_vectors)# tüm kelimelerin x,y koordinatlari var\n",
    "    \n",
    "    x_coords=Y[:,0]\n",
    "    y_coords=Y[:,1]\n",
    "    \n",
    "    plt.scatter(x_coords, y_coords)\n",
    "    \n",
    "    for label, x, y in zip(word_labels,x_coords, y_coords):\n",
    "        plt.annotate(label, xy= (x,y), xytext=(5,-2), textcoords='offset points')\n",
    "    \n",
    "    plt.show()\n",
    "    \n",
    "    \n",
    "    \n",
    "    \n",
    "        "
   ]
  },
  {
   "cell_type": "code",
   "execution_count": 27,
   "id": "01457cb5",
   "metadata": {},
   "outputs": [
    {
     "data": {
      "image/png": "[encoded data removed]",
      "text/plain": [
       "<Figure size 640x480 with 1 Axes>"
      ]
     },
     "metadata": {},
     "output_type": "display_data"
    }
   ],
   "source": [
    "closestwords_tsneplot(model,'berlin')"
   ]
  },
  {
   "cell_type": "code",
   "execution_count": null,
   "id": "305b24b4",
   "metadata": {},
   "outputs": [],
   "source": []
  }
 ],
 "metadata": {
  "kernelspec": {
   "display_name": "Python 3 (ipykernel)",
   "language": "python",
   "name": "python3"
  },
  "language_info": {
   "codemirror_mode": {
    "name": "ipython",
    "version": 3
   },
   "file_extension": ".py",
   "mimetype": "text/x-python",
   "name": "python",
   "nbconvert_exporter": "python",
   "pygments_lexer": "ipython3",
   "version": "3.11.4"
  }
 },
 "nbformat": 4,
 "nbformat_minor": 5
}
