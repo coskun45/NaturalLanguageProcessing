{
 "cells": [
  {
   "cell_type": "markdown",
   "id": "808ff83f",
   "metadata": {},
   "source": [
    "lemmatizing\n",
    "- stemming gibi kelime köklerini veya temel biçimleri çıkarmayı amaçlar, ancak farklı yaklaşımlar kullanırlar ve sonuçlarında bazı farklılıklar vardır.\n",
    "stemming:Bu yöntem, kelimenin sonundaki ekleri keserek veya bazı basit kurallara dayanarak bir kelimenin kökünü belirlemeye çalışır.\n",
    "lemmatizing:Bu yöntem, kelimenin sözlükteki temel biçimini veya anlamını bulmaya çalışır ve bunu yaparken kelimenin morfolojik yapısını dikkate alır.\n",
    "Sonuç her zaman bir geçerli kelime olur ve daha doğru bir çıkış sağlar.\n"
   ]
  },
  {
   "cell_type": "code",
   "execution_count": 1,
   "id": "56321cf8",
   "metadata": {},
   "outputs": [],
   "source": [
    "from nltk.stem import WordNetLemmatizer"
   ]
  },
  {
   "cell_type": "code",
   "execution_count": 2,
   "id": "ef2f9419",
   "metadata": {},
   "outputs": [],
   "source": [
    "lem=WordNetLemmatizer()"
   ]
  },
  {
   "cell_type": "code",
   "execution_count": 3,
   "id": "f660337a",
   "metadata": {},
   "outputs": [],
   "source": [
    "words=['drive','driving','driver','drove','cats','children']"
   ]
  },
  {
   "cell_type": "code",
   "execution_count": 4,
   "id": "46700cc3",
   "metadata": {},
   "outputs": [
    {
     "name": "stdout",
     "output_type": "stream",
     "text": [
      "drive\n",
      "driving\n",
      "driver\n",
      "drove\n",
      "cat\n",
      "child\n"
     ]
    }
   ],
   "source": [
    "for w in words:\n",
    "    print(lem.lemmatize(w))"
   ]
  },
  {
   "cell_type": "code",
   "execution_count": 5,
   "id": "8372589c",
   "metadata": {},
   "outputs": [
    {
     "data": {
      "text/plain": [
       "'drive'"
      ]
     },
     "execution_count": 5,
     "metadata": {},
     "output_type": "execute_result"
    }
   ],
   "source": [
    "lem.lemmatize('driving','v')"
   ]
  },
  {
   "cell_type": "code",
   "execution_count": 6,
   "id": "fe90fff2",
   "metadata": {},
   "outputs": [
    {
     "data": {
      "text/plain": [
       "'drive'"
      ]
     },
     "execution_count": 6,
     "metadata": {},
     "output_type": "execute_result"
    }
   ],
   "source": [
    "lem.lemmatize('drove','v')"
   ]
  },
  {
   "cell_type": "code",
   "execution_count": null,
   "id": "ab5fb57f",
   "metadata": {},
   "outputs": [],
   "source": []
  }
 ],
 "metadata": {
  "kernelspec": {
   "display_name": "Python 3 (ipykernel)",
   "language": "python",
   "name": "python3"
  },
  "language_info": {
   "codemirror_mode": {
    "name": "ipython",
    "version": 3
   },
   "file_extension": ".py",
   "mimetype": "text/x-python",
   "name": "python",
   "nbconvert_exporter": "python",
   "pygments_lexer": "ipython3",
   "version": "3.11.4"
  }
 },
 "nbformat": 4,
 "nbformat_minor": 5
}
