{
 "cells": [
  {
   "cell_type": "markdown",
   "id": "f1bc8032",
   "metadata": {},
   "source": [
    "Stop Words\n",
    "- the, a, an gibi tek basina anlami olmayan kelimeler\n",
    "- bu kelimeler analiz icin bir anlami olmadigi icin datadan elememiz lazim"
   ]
  },
  {
   "cell_type": "code",
   "execution_count": 9,
   "id": "a5483f53",
   "metadata": {},
   "outputs": [],
   "source": [
    "from nltk.corpus import stopwords\n",
    "from nltk.tokenize import word_tokenize\n",
    "\n"
   ]
  },
  {
   "cell_type": "code",
   "execution_count": 10,
   "id": "0b7f98dd",
   "metadata": {},
   "outputs": [],
   "source": [
    "text=\"Fazıl Say is a prominent Turkish pianist and composer known for his contributions to classical music and contemporary compositions. He was born on January 14, 1970, in Ankara, Turkey. Fazıl Say is widely recognized for his exceptional piano skills and his innovative approach to blending classical and jazz music.\""
   ]
  },
  {
   "cell_type": "code",
   "execution_count": 11,
   "id": "a36fa33f",
   "metadata": {},
   "outputs": [],
   "source": [
    "stopwords=stopwords.words(\"english\")"
   ]
  },
  {
   "cell_type": "code",
   "execution_count": 12,
   "id": "6fb6b10d",
   "metadata": {},
   "outputs": [],
   "source": [
    "words=word_tokenize(text)"
   ]
  },
  {
   "cell_type": "code",
   "execution_count": 13,
   "id": "3574f4af",
   "metadata": {},
   "outputs": [],
   "source": [
    "filtered_words=[]\n",
    "for word in words:\n",
    "    if word not in stopwords:\n",
    "        filtered_words.append(word)"
   ]
  },
  {
   "cell_type": "code",
   "execution_count": 14,
   "id": "41040287",
   "metadata": {},
   "outputs": [
    {
     "data": {
      "text/plain": [
       "['Fazıl',\n",
       " 'Say',\n",
       " 'prominent',\n",
       " 'Turkish',\n",
       " 'pianist',\n",
       " 'composer',\n",
       " 'known',\n",
       " 'contributions',\n",
       " 'classical',\n",
       " 'music',\n",
       " 'contemporary',\n",
       " 'compositions',\n",
       " '.',\n",
       " 'He',\n",
       " 'born',\n",
       " 'January',\n",
       " '14',\n",
       " ',',\n",
       " '1970',\n",
       " ',',\n",
       " 'Ankara',\n",
       " ',',\n",
       " 'Turkey',\n",
       " '.',\n",
       " 'Fazıl',\n",
       " 'Say',\n",
       " 'widely',\n",
       " 'recognized',\n",
       " 'exceptional',\n",
       " 'piano',\n",
       " 'skills',\n",
       " 'innovative',\n",
       " 'approach',\n",
       " 'blending',\n",
       " 'classical',\n",
       " 'jazz',\n",
       " 'music',\n",
       " '.']"
      ]
     },
     "execution_count": 14,
     "metadata": {},
     "output_type": "execute_result"
    }
   ],
   "source": [
    "filtered_words"
   ]
  },
  {
   "cell_type": "code",
   "execution_count": null,
   "id": "c30b212c",
   "metadata": {},
   "outputs": [],
   "source": []
  }
 ],
 "metadata": {
  "kernelspec": {
   "display_name": "Python 3 (ipykernel)",
   "language": "python",
   "name": "python3"
  },
  "language_info": {
   "codemirror_mode": {
    "name": "ipython",
    "version": 3
   },
   "file_extension": ".py",
   "mimetype": "text/x-python",
   "name": "python",
   "nbconvert_exporter": "python",
   "pygments_lexer": "ipython3",
   "version": "3.11.4"
  }
 },
 "nbformat": 4,
 "nbformat_minor": 5
}
