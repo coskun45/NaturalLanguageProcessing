{
 "cells": [
  {
   "cell_type": "markdown",
   "id": "a03b1635",
   "metadata": {},
   "source": [
    "NOTLAR:\n",
    "- tokenlestirme iki türlü yapilabilir.\n",
    "- genelde word_tokenize kullanilir"
   ]
  },
  {
   "cell_type": "code",
   "execution_count": 3,
   "id": "cdf5e198",
   "metadata": {},
   "outputs": [],
   "source": [
    "from nltk.tokenize import sent_tokenize,word_tokenize"
   ]
  },
  {
   "cell_type": "code",
   "execution_count": 4,
   "id": "0fad4e13",
   "metadata": {},
   "outputs": [],
   "source": [
    "text=\"Alan Turing (Alan Mathison Turing), 20. yüzyılın önemli bir İngiliz matematikçisi, bilgisayar bilimcisi ve teorik biyologuydu. Turing, 23 Haziran 1912'de doğdu ve 7 Haziran 1954'te yaşamını yitirdi. Turing'in hayatı ve çalışmaları, bilim, matematik ve teknoloji alanlarında önemli etkiler yarattı.\"\n"
   ]
  },
  {
   "cell_type": "code",
   "execution_count": 5,
   "id": "c81dab37",
   "metadata": {
    "scrolled": true
   },
   "outputs": [
    {
     "data": {
      "text/plain": [
       "['Alan',\n",
       " 'Turing',\n",
       " '(Alan',\n",
       " 'Mathison',\n",
       " 'Turing),',\n",
       " '20.',\n",
       " 'yüzyılın',\n",
       " 'önemli',\n",
       " 'bir',\n",
       " 'İngiliz',\n",
       " 'matematikçisi,',\n",
       " 'bilgisayar',\n",
       " 'bilimcisi',\n",
       " 've',\n",
       " 'teorik',\n",
       " 'biyologuydu.',\n",
       " 'Turing,',\n",
       " '23',\n",
       " 'Haziran',\n",
       " \"1912'de\",\n",
       " 'doğdu',\n",
       " 've',\n",
       " '7',\n",
       " 'Haziran',\n",
       " \"1954'te\",\n",
       " 'yaşamını',\n",
       " 'yitirdi.',\n",
       " \"Turing'in\",\n",
       " 'hayatı',\n",
       " 've',\n",
       " 'çalışmaları,',\n",
       " 'bilim,',\n",
       " 'matematik',\n",
       " 've',\n",
       " 'teknoloji',\n",
       " 'alanlarında',\n",
       " 'önemli',\n",
       " 'etkiler',\n",
       " 'yarattı.']"
      ]
     },
     "execution_count": 5,
     "metadata": {},
     "output_type": "execute_result"
    }
   ],
   "source": [
    "text.split()"
   ]
  },
  {
   "cell_type": "code",
   "execution_count": 6,
   "id": "82801743",
   "metadata": {},
   "outputs": [
    {
     "data": {
      "text/plain": [
       "['Alan',\n",
       " 'Turing',\n",
       " '(',\n",
       " 'Alan',\n",
       " 'Mathison',\n",
       " 'Turing',\n",
       " ')',\n",
       " ',',\n",
       " '20.',\n",
       " 'yüzyılın',\n",
       " 'önemli',\n",
       " 'bir',\n",
       " 'İngiliz',\n",
       " 'matematikçisi',\n",
       " ',',\n",
       " 'bilgisayar',\n",
       " 'bilimcisi',\n",
       " 've',\n",
       " 'teorik',\n",
       " 'biyologuydu',\n",
       " '.',\n",
       " 'Turing',\n",
       " ',',\n",
       " '23',\n",
       " 'Haziran',\n",
       " \"1912'de\",\n",
       " 'doğdu',\n",
       " 've',\n",
       " '7',\n",
       " 'Haziran',\n",
       " \"1954'te\",\n",
       " 'yaşamını',\n",
       " 'yitirdi',\n",
       " '.',\n",
       " \"Turing'in\",\n",
       " 'hayatı',\n",
       " 've',\n",
       " 'çalışmaları',\n",
       " ',',\n",
       " 'bilim',\n",
       " ',',\n",
       " 'matematik',\n",
       " 've',\n",
       " 'teknoloji',\n",
       " 'alanlarında',\n",
       " 'önemli',\n",
       " 'etkiler',\n",
       " 'yarattı',\n",
       " '.']"
      ]
     },
     "execution_count": 6,
     "metadata": {},
     "output_type": "execute_result"
    }
   ],
   "source": [
    "word_tokenize(text)# noktalama isaretlerinden arindirdi"
   ]
  },
  {
   "cell_type": "code",
   "execution_count": 7,
   "id": "4bcfa2a3",
   "metadata": {},
   "outputs": [
    {
     "data": {
      "text/plain": [
       "['Alan Turing (Alan Mathison Turing), 20. yüzyılın önemli bir İngiliz matematikçisi, bilgisayar bilimcisi ve teorik biyologuydu.',\n",
       " \"Turing, 23 Haziran 1912'de doğdu ve 7 Haziran 1954'te yaşamını yitirdi.\",\n",
       " \"Turing'in hayatı ve çalışmaları, bilim, matematik ve teknoloji alanlarında önemli etkiler yarattı.\"]"
      ]
     },
     "execution_count": 7,
     "metadata": {},
     "output_type": "execute_result"
    }
   ],
   "source": [
    "sent_tokenize(text)# cümle olark tokenlestirdi"
   ]
  },
  {
   "cell_type": "code",
   "execution_count": 9,
   "id": "9882962d",
   "metadata": {},
   "outputs": [
    {
     "name": "stdout",
     "output_type": "stream",
     "text": [
      "Alan\n",
      "Turing\n",
      "(\n",
      "Alan\n",
      "Mathison\n",
      "Turing\n",
      ")\n",
      ",\n",
      "20.\n",
      "yüzyılın\n",
      "önemli\n",
      "bir\n",
      "İngiliz\n",
      "matematikçisi\n",
      ",\n",
      "bilgisayar\n",
      "bilimcisi\n",
      "ve\n",
      "teorik\n",
      "biyologuydu\n",
      ".\n",
      "Turing\n",
      ",\n",
      "23\n",
      "Haziran\n",
      "1912'de\n",
      "doğdu\n",
      "ve\n",
      "7\n",
      "Haziran\n",
      "1954'te\n",
      "yaşamını\n",
      "yitirdi\n",
      ".\n",
      "Turing'in\n",
      "hayatı\n",
      "ve\n",
      "çalışmaları\n",
      ",\n",
      "bilim\n",
      ",\n",
      "matematik\n",
      "ve\n",
      "teknoloji\n",
      "alanlarında\n",
      "önemli\n",
      "etkiler\n",
      "yarattı\n",
      ".\n"
     ]
    }
   ],
   "source": [
    "for token in word_tokenize(text):\n",
    "    print(token)# her token i tek tek basdi"
   ]
  },
  {
   "cell_type": "code",
   "execution_count": null,
   "id": "12f5803c",
   "metadata": {},
   "outputs": [],
   "source": []
  }
 ],
 "metadata": {
  "kernelspec": {
   "display_name": "Python 3 (ipykernel)",
   "language": "python",
   "name": "python3"
  },
  "language_info": {
   "codemirror_mode": {
    "name": "ipython",
    "version": 3
   },
   "file_extension": ".py",
   "mimetype": "text/x-python",
   "name": "python",
   "nbconvert_exporter": "python",
   "pygments_lexer": "ipython3",
   "version": "3.11.4"
  }
 },
 "nbformat": 4,
 "nbformat_minor": 5
}
