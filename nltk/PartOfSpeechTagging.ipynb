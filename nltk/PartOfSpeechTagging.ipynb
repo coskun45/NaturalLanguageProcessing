{
 "cells": [
  {
   "cell_type": "markdown",
   "id": "85f6eee1",
   "metadata": {},
   "source": [
    "PartOfSpeechTagging(PoST)\n",
    "- cümlenin ögeleri bulma islemi\n",
    "- "
   ]
  },
  {
   "cell_type": "code",
   "execution_count": 1,
   "id": "44a53e18",
   "metadata": {},
   "outputs": [],
   "source": [
    "import nltk"
   ]
  },
  {
   "cell_type": "code",
   "execution_count": 2,
   "id": "c26cea7c",
   "metadata": {},
   "outputs": [],
   "source": [
    "text=\"Fazıl Say is a prominent Turkish pianist and composer known for his contributions to classical music and contemporary compositions. He was born on January 14, 1970, in Ankara, Turkey. Fazıl Say is widely recognized for his exceptional piano skills and his innovative approach to blending classical and jazz music.\"\n"
   ]
  },
  {
   "cell_type": "code",
   "execution_count": 3,
   "id": "fd4c2a8a",
   "metadata": {},
   "outputs": [],
   "source": [
    "tokenized=nltk.word_tokenize(text)"
   ]
  },
  {
   "cell_type": "code",
   "execution_count": 4,
   "id": "f5e2699d",
   "metadata": {},
   "outputs": [
    {
     "data": {
      "text/plain": [
       "[('Fazıl', 'NNP'),\n",
       " ('Say', 'NNP'),\n",
       " ('is', 'VBZ'),\n",
       " ('a', 'DT'),\n",
       " ('prominent', 'JJ'),\n",
       " ('Turkish', 'JJ'),\n",
       " ('pianist', 'NN'),\n",
       " ('and', 'CC'),\n",
       " ('composer', 'NN'),\n",
       " ('known', 'VBN'),\n",
       " ('for', 'IN'),\n",
       " ('his', 'PRP$'),\n",
       " ('contributions', 'NNS'),\n",
       " ('to', 'TO'),\n",
       " ('classical', 'JJ'),\n",
       " ('music', 'NN'),\n",
       " ('and', 'CC'),\n",
       " ('contemporary', 'JJ'),\n",
       " ('compositions', 'NNS'),\n",
       " ('.', '.'),\n",
       " ('He', 'PRP'),\n",
       " ('was', 'VBD'),\n",
       " ('born', 'VBN'),\n",
       " ('on', 'IN'),\n",
       " ('January', 'NNP'),\n",
       " ('14', 'CD'),\n",
       " (',', ','),\n",
       " ('1970', 'CD'),\n",
       " (',', ','),\n",
       " ('in', 'IN'),\n",
       " ('Ankara', 'NNP'),\n",
       " (',', ','),\n",
       " ('Turkey', 'NNP'),\n",
       " ('.', '.'),\n",
       " ('Fazıl', 'NNP'),\n",
       " ('Say', 'NNP'),\n",
       " ('is', 'VBZ'),\n",
       " ('widely', 'RB'),\n",
       " ('recognized', 'VBN'),\n",
       " ('for', 'IN'),\n",
       " ('his', 'PRP$'),\n",
       " ('exceptional', 'JJ'),\n",
       " ('piano', 'NN'),\n",
       " ('skills', 'NNS'),\n",
       " ('and', 'CC'),\n",
       " ('his', 'PRP$'),\n",
       " ('innovative', 'JJ'),\n",
       " ('approach', 'NN'),\n",
       " ('to', 'TO'),\n",
       " ('blending', 'VBG'),\n",
       " ('classical', 'JJ'),\n",
       " ('and', 'CC'),\n",
       " ('jazz', 'NN'),\n",
       " ('music', 'NN'),\n",
       " ('.', '.')]"
      ]
     },
     "execution_count": 4,
     "metadata": {},
     "output_type": "execute_result"
    }
   ],
   "source": [
    "nltk.pos_tag(tokenized)"
   ]
  },
  {
   "cell_type": "code",
   "execution_count": null,
   "id": "eed68ae3",
   "metadata": {},
   "outputs": [],
   "source": []
  }
 ],
 "metadata": {
  "kernelspec": {
   "display_name": "Python 3 (ipykernel)",
   "language": "python",
   "name": "python3"
  },
  "language_info": {
   "codemirror_mode": {
    "name": "ipython",
    "version": 3
   },
   "file_extension": ".py",
   "mimetype": "text/x-python",
   "name": "python",
   "nbconvert_exporter": "python",
   "pygments_lexer": "ipython3",
   "version": "3.11.4"
  }
 },
 "nbformat": 4,
 "nbformat_minor": 5
}
