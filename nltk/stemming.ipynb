{
 "cells": [
  {
   "cell_type": "markdown",
   "id": "069eb32b",
   "metadata": {},
   "source": [
    "Stemming\n",
    "- kelimenin kökünü bulma\n",
    "- sadece kelimenin sonuna bakilir"
   ]
  },
  {
   "cell_type": "code",
   "execution_count": 1,
   "id": "c4ce234f",
   "metadata": {},
   "outputs": [],
   "source": [
    "from nltk.stem import PorterStemmer"
   ]
  },
  {
   "cell_type": "code",
   "execution_count": 2,
   "id": "7d88a325",
   "metadata": {},
   "outputs": [],
   "source": [
    "ps=PorterStemmer()"
   ]
  },
  {
   "cell_type": "code",
   "execution_count": 4,
   "id": "d345e369",
   "metadata": {},
   "outputs": [],
   "source": [
    "words=['drive','driving','driver','drove','cats','children']"
   ]
  },
  {
   "cell_type": "code",
   "execution_count": 5,
   "id": "03edf75a",
   "metadata": {},
   "outputs": [
    {
     "name": "stdout",
     "output_type": "stream",
     "text": [
      "drive\n",
      "drive\n",
      "driver\n",
      "drove\n",
      "cat\n",
      "children\n"
     ]
    }
   ],
   "source": [
    "for w in words:\n",
    "    print(ps.stem(w))"
   ]
  },
  {
   "cell_type": "code",
   "execution_count": null,
   "id": "4517a5d6",
   "metadata": {},
   "outputs": [],
   "source": []
  }
 ],
 "metadata": {
  "kernelspec": {
   "display_name": "Python 3 (ipykernel)",
   "language": "python",
   "name": "python3"
  },
  "language_info": {
   "codemirror_mode": {
    "name": "ipython",
    "version": 3
   },
   "file_extension": ".py",
   "mimetype": "text/x-python",
   "name": "python",
   "nbconvert_exporter": "python",
   "pygments_lexer": "ipython3",
   "version": "3.11.4"
  }
 },
 "nbformat": 4,
 "nbformat_minor": 5
}
