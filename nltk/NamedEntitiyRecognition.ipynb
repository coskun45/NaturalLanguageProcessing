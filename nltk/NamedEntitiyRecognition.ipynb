{
 "cells": [
  {
   "cell_type": "markdown",
   "id": "4dfecf75",
   "metadata": {},
   "source": [
    "NamedEntitiyRecognition\n",
    "- cümle icindeki kisi, organizasyon, yer, tarih gibi isimleri bulmaya yarar\n",
    "Kişiler (Persons): Metinde geçen kişilerin adlarını tanır. Örneğin, \"John Smith\" gibi.\n",
    "\n",
    "Organizasyonlar (Organizations): Metindeki şirket adları, kuruluşlar veya diğer organizasyonlar gibi kurumsal varlıkları tanır. Örneğin, \"Apple Inc.\" gibi.\n",
    "\n",
    "Yerler (Locations): Coğrafi yerleri tanır. Bu, ülkeler, şehirler, nehirler veya dağlar gibi yerler olabilir. Örneğin, \"Paris\" gibi.\n",
    "\n",
    "Zaman İfadeleri (Date Expressions): Tarih ve saat ifadelerini tanır. Bu, belirli bir tarihi veya zamanı içeren ifadeleri içerir. Örneğin, \"1 Ocak 2020\" gibi.\n",
    "\n",
    "Para Birimleri (Monetary Values): Para birimi ifadelerini tanır. Bu, döviz cinsini ve miktarını içeren ifadeleri içerir. Örneğin, \"100 dolar\" gibi.\n",
    "\n",
    "Yüzey Desenler (Patterns): Özelleştirilebilir kurallar ve desenler kullanarak özel varlık türlerini tanıyabilirsiniz."
   ]
  },
  {
   "cell_type": "code",
   "execution_count": 15,
   "id": "0d08f3f0",
   "metadata": {},
   "outputs": [],
   "source": [
    "import nltk\n",
    "from nltk import word_tokenize, ne_chunk\n",
    "\n",
    "# Metni ayırma ve adlandırılmış varlık tanıma işlemi\n",
    "text = \"Apple Inc. was founded by Steve Jobs in Cupertino, California.\"\n",
    "words = word_tokenize(text)\n",
    "tagged = nltk.pos_tag(words)\n",
    "named_ent = ne_chunk(tagged)\n",
    "\n",
    "# named_ent.draw() kullanımı\n",
    "named_ent.draw()"
   ]
  },
  {
   "cell_type": "code",
   "execution_count": null,
   "id": "793acee2",
   "metadata": {},
   "outputs": [],
   "source": []
  }
 ],
 "metadata": {
  "kernelspec": {
   "display_name": "Python 3 (ipykernel)",
   "language": "python",
   "name": "python3"
  },
  "language_info": {
   "codemirror_mode": {
    "name": "ipython",
    "version": 3
   },
   "file_extension": ".py",
   "mimetype": "text/x-python",
   "name": "python",
   "nbconvert_exporter": "python",
   "pygments_lexer": "ipython3",
   "version": "3.11.4"
  }
 },
 "nbformat": 4,
 "nbformat_minor": 5
}
