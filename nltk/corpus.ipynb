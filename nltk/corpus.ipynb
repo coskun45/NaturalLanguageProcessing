{
 "cells": [
  {
   "cell_type": "markdown",
   "id": "d9370bee",
   "metadata": {},
   "source": [
    "Corpus:külliyat.bir dildeki metin örneklerinin, belirli bir konunun veya belirli bir dilin büyük bir koleksiyonunu ifade eder\n",
    "- kaggle ana kaynak\n",
    "- gutenberg telifhaklari olmayan kitaplar\n",
    "- wikipedia\n",
    "- common crawl -> internetin tamamini arsivlemek. siradan bilg da mümkün degil\n"
   ]
  },
  {
   "cell_type": "code",
   "execution_count": null,
   "id": "de8fc261",
   "metadata": {},
   "outputs": [],
   "source": []
  }
 ],
 "metadata": {
  "kernelspec": {
   "display_name": "Python 3 (ipykernel)",
   "language": "python",
   "name": "python3"
  },
  "language_info": {
   "codemirror_mode": {
    "name": "ipython",
    "version": 3
   },
   "file_extension": ".py",
   "mimetype": "text/x-python",
   "name": "python",
   "nbconvert_exporter": "python",
   "pygments_lexer": "ipython3",
   "version": "3.11.4"
  }
 },
 "nbformat": 4,
 "nbformat_minor": 5
}
